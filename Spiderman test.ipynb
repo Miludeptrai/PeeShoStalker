{
 "cells": [
  {
   "cell_type": "code",
   "execution_count": 1,
   "metadata": {},
   "outputs": [],
   "source": [
    "import os \n",
    "\n",
    "#os.system('scrapy startproject tripadvisorVNAttraction')\n",
    "class Spiderman() : \n",
    "    def __init__(self,project_folder : str = '') : \n",
    "        self.project_name = ''\n",
    "        self.project_folder = ''\n",
    "        self.spiders = []\n",
    "        if project_folder : \n",
    "            if 'scrapy.cfg' in os.listdir(project_folder) : \n",
    "                cwd = os.getcwd()\n",
    "                self.project_folder = project_folder\n",
    "                print(f\"Taget on {project_folder} now\")\n",
    "                try : \n",
    "                    os.chdir(project_folder)\n",
    "                    self.project_name = os.path.basename(project_folder)\n",
    "                    os.chdir(self.project_name+ '\\spiders')\n",
    "                    self.spiders = [i.replace('.py','') for i in os.listdir(os.getcwd()) if i.endswith(\".py\")]\n",
    "                    print(f\"Loaded spiders\")\n",
    "                except : \n",
    "                    print('No spiders found')\n",
    "                    pass\n",
    "                os.chdir(cwd)\n",
    "            else :\n",
    "                print(f'Invalid spider project : {project_folder}')\n",
    "    def change_project(self,project_folder : str = '') : \n",
    "        self.__init__(project_folder)\n",
    "        print('Changed project')\n",
    "    def generator_spider_project(self,project_name : str = 'New_Spider',base_folder : str = '') :\n",
    "        cwd = os.getcwd()\n",
    "        try : \n",
    "            os.chdir(base_folder)\n",
    "            project_folder = base_folder\n",
    "        except : \n",
    "            print(\"Base folder is invalid, try to create project at current dir\")\n",
    "            project_folder = cwd\n",
    "        try : \n",
    "            if not os.path.exists(project_folder +f'\\{project_name}'):\n",
    "                os.system(f'scrapy startproject {project_name}') \n",
    "                print(f\"Success create spider project : {project_name}\")\n",
    "                self.__init__(project_folder +f'\\{project_name}')\n",
    "                os.chdir(cwd)\n",
    "                return True\n",
    "            else :\n",
    "                print(f\"Fails to create folder {project_name} : {project_name}\")\n",
    "                os.chdir(cwd)\n",
    "                return False\n",
    "        except Exception as err: \n",
    "            print(err)\n",
    "            os.chdir(cwd)\n",
    "            return False\n",
    "    def create_spider(self, spider_name : str) : \n",
    "        if self.project_folder : \n",
    "            cwd = os.getcwd()\n",
    "            os.chdir(self.project_folder)\n",
    "            if not os.path.exists(f'./{self.project_name}/spiders/{spider_name}.py'):\n",
    "                with open(f'./{self.project_name}/spiders/{spider_name}.py','w+',encoding='utf-8') as f:\n",
    "                    f.write(\n",
    "                        f'''\\\n",
    "import scrapy\n",
    "class MySpider(scrapy.Spider):\n",
    "    name = '{spider_name}'\n",
    "    def start_requests(self):\n",
    "        pass\n",
    "    def parse(self, response):\n",
    "        pass\n",
    "                        '''\n",
    "                    )\n",
    "                f.close()\n",
    "                print(f'Success crreate spider : {spider_name}')\n",
    "            else :\n",
    "                print(f'Already has spider : {spider_name}')\n",
    "            os.chdir(cwd)\n",
    "        else : \n",
    "            print('No working project') \n",
    "    def check_spider(self,spider_name : str ='') : \n",
    "        if not self.project_folder : \n",
    "            return False\n",
    "        if not spider_name in self.spiders : \n",
    "            return False\n",
    "        return True\n",
    "    def get_spider_location(self,spider_name : str =''): \n",
    "        if self.check_spider(spider_name) : \n",
    "            location = f'{self.project_folder}\\\\{self.project_name}\\\\spiders\\\\{spider_name}.py'\n",
    "            print(location)\n",
    "            return location\n",
    "    def read_spider(self,spider_name : str) : \n",
    "        cwd = os.getcwd()\n",
    "        if self.check_spider(spider_name) : \n",
    "            os.chdir(self.project_folder)\n",
    "            try : \n",
    "                with open(f'./{self.project_name}/spiders/{spider_name}.py','r+',encoding='utf-8') as f:\n",
    "                    print(f'*********** {spider_name}.py start ***********')\n",
    "                    print(f.read())\n",
    "                    print(f'*********** {spider_name}.py end   ***********')\n",
    "                f.close()\n",
    "                os.chdir(cwd)\n",
    "                return True\n",
    "            except Exception as err: \n",
    "                print(err)\n",
    "                os.chdir(cwd)\n",
    "                return False\n",
    "        else : \n",
    "            print(f'No Spider {spider_name}')\n",
    "    def write_spider(self,spider_name : str, new_content :str) : \n",
    "        cwd = os.getcwd()\n",
    "        if self.check_spider(spider_name) : \n",
    "            os.chdir(self.project_folder)\n",
    "            try : \n",
    "                with open(f'./{self.project_name}/spiders/{spider_name}.py','w+',encoding='utf-8') as f:\n",
    "                    f.write(new_content)\n",
    "                f.close()\n",
    "                os.chdir(cwd)\n",
    "                return True\n",
    "            except Exception as err: \n",
    "                print(err)\n",
    "                os.chdir(cwd)\n",
    "                return False\n",
    "        else :\n",
    "            print(f'No Spider {spider_name}')\n",
    "\n"
   ]
  },
  {
   "cell_type": "code",
   "execution_count": 2,
   "metadata": {},
   "outputs": [],
   "source": [
    "os.chdir('F:\\\\Shopee')"
   ]
  },
  {
   "cell_type": "code",
   "execution_count": 3,
   "metadata": {},
   "outputs": [
    {
     "data": {
      "text/plain": [
       "'f:\\\\Shopee'"
      ]
     },
     "execution_count": 3,
     "metadata": {},
     "output_type": "execute_result"
    }
   ],
   "source": [
    "os.getcwd()"
   ]
  },
  {
   "cell_type": "code",
   "execution_count": 4,
   "metadata": {},
   "outputs": [],
   "source": [
    "t = Spiderman()"
   ]
  },
  {
   "cell_type": "code",
   "execution_count": 5,
   "metadata": {},
   "outputs": [
    {
     "name": "stdout",
     "output_type": "stream",
     "text": [
      "Changed project\n"
     ]
    }
   ],
   "source": [
    "t.change_project()"
   ]
  },
  {
   "cell_type": "code",
   "execution_count": 6,
   "metadata": {},
   "outputs": [
    {
     "name": "stdout",
     "output_type": "stream",
     "text": [
      "Fails to create folder New_Spider : New_Spider\n"
     ]
    },
    {
     "data": {
      "text/plain": [
       "False"
      ]
     },
     "execution_count": 6,
     "metadata": {},
     "output_type": "execute_result"
    }
   ],
   "source": [
    "t.generator_spider_project(base_folder='F:\\\\Shopee\\\\meow')"
   ]
  },
  {
   "cell_type": "code",
   "execution_count": 7,
   "metadata": {},
   "outputs": [
    {
     "name": "stdout",
     "output_type": "stream",
     "text": [
      "Taget on F:\\Shopee\\meow\\New_Spider now\n",
      "Loaded spiders\n",
      "Changed project\n"
     ]
    }
   ],
   "source": [
    "t.change_project('F:\\\\Shopee\\\\meow\\\\New_Spider')"
   ]
  },
  {
   "cell_type": "code",
   "execution_count": 8,
   "metadata": {},
   "outputs": [
    {
     "data": {
      "text/plain": [
       "['hello', '__init__']"
      ]
     },
     "execution_count": 8,
     "metadata": {},
     "output_type": "execute_result"
    }
   ],
   "source": [
    "t.spiders"
   ]
  },
  {
   "cell_type": "code",
   "execution_count": 9,
   "metadata": {},
   "outputs": [
    {
     "name": "stdout",
     "output_type": "stream",
     "text": [
      "Already has spider : hello\n"
     ]
    }
   ],
   "source": [
    "t.create_spider('hello')"
   ]
  },
  {
   "cell_type": "code",
   "execution_count": 10,
   "metadata": {},
   "outputs": [
    {
     "name": "stdout",
     "output_type": "stream",
     "text": [
      "*********** hello.py start ***********\n",
      "\n",
      "import scrapy\n",
      "class MySpider(scrapy.Spider):\n",
      "    name = 'hello'\n",
      "\n",
      "*********** hello.py end   ***********\n"
     ]
    },
    {
     "data": {
      "text/plain": [
       "True"
      ]
     },
     "execution_count": 10,
     "metadata": {},
     "output_type": "execute_result"
    }
   ],
   "source": [
    "t.read_spider('hello')"
   ]
  },
  {
   "cell_type": "code",
   "execution_count": 11,
   "metadata": {},
   "outputs": [
    {
     "name": "stdout",
     "output_type": "stream",
     "text": [
      "No Spider haha\n"
     ]
    }
   ],
   "source": [
    "t.read_spider('haha')"
   ]
  },
  {
   "cell_type": "code",
   "execution_count": 12,
   "metadata": {},
   "outputs": [
    {
     "data": {
      "text/plain": [
       "True"
      ]
     },
     "execution_count": 12,
     "metadata": {},
     "output_type": "execute_result"
    }
   ],
   "source": [
    "t.write_spider('hello',\n",
    "               '''\n",
    "import scrapy\n",
    "class MySpider(scrapy.Spider):\n",
    "    name = 'hello'\n",
    "'''\n",
    "               )"
   ]
  },
  {
   "cell_type": "code",
   "execution_count": 56,
   "metadata": {},
   "outputs": [
    {
     "name": "stdout",
     "output_type": "stream",
     "text": [
      "F:\\Shopee\\meow\\New_Spider\\New_Spider\\spiders\\hello.py\n"
     ]
    },
    {
     "data": {
      "text/plain": [
       "'F:\\\\Shopee\\\\meow\\\\New_Spider\\\\New_Spider\\\\spiders\\\\hello.py'"
      ]
     },
     "execution_count": 56,
     "metadata": {},
     "output_type": "execute_result"
    }
   ],
   "source": [
    "t.get_spider_location('hello')"
   ]
  }
 ],
 "metadata": {
  "kernelspec": {
   "display_name": "Python 3",
   "language": "python",
   "name": "python3"
  },
  "language_info": {
   "codemirror_mode": {
    "name": "ipython",
    "version": 3
   },
   "file_extension": ".py",
   "mimetype": "text/x-python",
   "name": "python",
   "nbconvert_exporter": "python",
   "pygments_lexer": "ipython3",
   "version": "3.7.8"
  }
 },
 "nbformat": 4,
 "nbformat_minor": 2
}
