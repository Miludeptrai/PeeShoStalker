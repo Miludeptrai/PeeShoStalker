{
 "cells": [
  {
   "cell_type": "code",
   "execution_count": 18,
   "metadata": {},
   "outputs": [],
   "source": [
    "import os\n",
    "from selenium.webdriver.common.desired_capabilities import DesiredCapabilities\n",
    "from selenium.webdriver.chrome.options import Options\n",
    "import undetected_chromedriver as uc\n",
    "\n",
    "caps = DesiredCapabilities.CHROME\n",
    "caps['goog:loggingPrefs'] = {'performance': 'ALL'}"
   ]
  },
  {
   "cell_type": "code",
   "execution_count": 31,
   "metadata": {},
   "outputs": [],
   "source": [
    "#chrome_options.add_extension('F:/Shopee/Proxy-Auto-Auth.zip')\n",
    "\n",
    "chrome_options = uc.ChromeOptions()\n",
    "chrome_options.add_experimental_option('prefs', { 'extensions.ui.developer_mode': True })\n",
    "chrome_options.add_argument(\"--load-extension=F:/Shopee/Proxy-Auto-Auth\")\n",
    "#chrome_options.add_argument('--proxy-server=socks5://' + 'syd.socks.ipvanish.com:1080')\n",
    "driver = uc.Chrome(headless=False,use_subprocess=True,chrome_options = chrome_options)\n",
    "driver.get(\"http://stackoverflow.com\")\n"
   ]
  },
  {
   "cell_type": "code",
   "execution_count": 29,
   "metadata": {},
   "outputs": [
    {
     "name": "stdout",
     "output_type": "stream",
     "text": [
      "{'prefs': {'extensions.ui.developer_mode': True}}\n"
     ]
    }
   ],
   "source": [
    "print(chrome_options.experimental_options)"
   ]
  },
  {
   "cell_type": "code",
   "execution_count": 32,
   "metadata": {},
   "outputs": [],
   "source": [
    "import undetected_chromedriver as uc\n",
    "import time \n",
    "from selenium.webdriver.support.ui import WebDriverWait\n",
    "from selenium.webdriver.support import expected_conditions as EC\n",
    "from selenium.webdriver.common.by import By\n",
    "from selenium.common.exceptions import TimeoutException\n",
    "\n",
    "import json\n",
    "from selenium.webdriver.common.desired_capabilities import DesiredCapabilities\n",
    "\n",
    "from datetime import datetime\n",
    "from threading import Timer\n",
    "\n",
    "from bs4 import BeautifulSoup"
   ]
  },
  {
   "cell_type": "code",
   "execution_count": 54,
   "metadata": {},
   "outputs": [
    {
     "name": "stdout",
     "output_type": "stream",
     "text": [
      "Start GET\n"
     ]
    }
   ],
   "source": [
    "caps = DesiredCapabilities.CHROME\n",
    "#  #as per latest docs\n",
    "caps['goog:loggingPrefs'] = {'performance': 'ALL'}\n",
    "driver = uc.Chrome(headless=False,use_subprocess=False,desired_capabilities=caps)\n",
    "print('Start GET')\n",
    "\n",
    "driver.get('https://shopee.vn/levents.vn?page=7&sortBy=pop')\n",
    "#driver.save_screenshot('nowsecure.png')\n",
    "time.sleep(10)\n",
    "delay = 10 # seconds\n",
    "\n",
    "\n",
    "\n",
    "def process_browser_log_entry(entry):\n",
    "    response = json.loads(entry['message'])['message']\n",
    "    return response\n",
    "\n",
    "browser_log = driver.get_log('performance') \n",
    "events = [process_browser_log_entry(entry) for entry in browser_log]\n",
    "events = [event for event in events if 'Network.response' in event['method']]"
   ]
  },
  {
   "cell_type": "code",
   "execution_count": 39,
   "metadata": {},
   "outputs": [
    {
     "ename": "JavascriptException",
     "evalue": "Message: javascript error: Cannot read properties of null (reading 'click')\n  (Session info: chrome=118.0.5993.118)\nStacktrace:\n\tGetHandleVerifier [0x01164DE3+43907]\n\t(No symbol) [0x010F0741]\n\t(No symbol) [0x00FE33ED]\n\t(No symbol) [0x00FE6F6D]\n\t(No symbol) [0x00FE89D9]\n\t(No symbol) [0x01045DEB]\n\t(No symbol) [0x01032B5C]\n\t(No symbol) [0x010455CA]\n\t(No symbol) [0x01032956]\n\t(No symbol) [0x0100E17E]\n\t(No symbol) [0x0100F32D]\n\tGetHandleVerifier [0x01415AF9+2865305]\n\tGetHandleVerifier [0x0145E78B+3163435]\n\tGetHandleVerifier [0x01458441+3138017]\n\tGetHandleVerifier [0x011EE0F0+605840]\n\t(No symbol) [0x010FA64C]\n\t(No symbol) [0x010F6638]\n\t(No symbol) [0x010F675F]\n\t(No symbol) [0x010E8DB7]\n\tBaseThreadInitThunk [0x7720FCC9+25]\n\tRtlGetAppContainerNamedObjectPath [0x77AA7C6E+286]\n\tRtlGetAppContainerNamedObjectPath [0x77AA7C3E+238]\n",
     "output_type": "error",
     "traceback": [
      "\u001b[1;31m---------------------------------------------------------------------------\u001b[0m",
      "\u001b[1;31mJavascriptException\u001b[0m                       Traceback (most recent call last)",
      "\u001b[1;32m~\\AppData\\Local\\Temp\\ipykernel_18160\\84929999.py\u001b[0m in \u001b[0;36m<module>\u001b[1;34m\u001b[0m\n\u001b[1;32m----> 1\u001b[1;33m \u001b[0mdriver\u001b[0m\u001b[1;33m.\u001b[0m\u001b[0mexecute_script\u001b[0m\u001b[1;33m(\u001b[0m\u001b[1;34m'document.querySelector(\\'[class=\"shopee-button-outline\"]\\').click();'\u001b[0m\u001b[1;33m)\u001b[0m\u001b[1;33m\u001b[0m\u001b[1;33m\u001b[0m\u001b[0m\n\u001b[0m",
      "\u001b[1;32mc:\\Users\\MILU\\AppData\\Local\\Programs\\Python\\Python37\\lib\\site-packages\\selenium\\webdriver\\remote\\webdriver.py\u001b[0m in \u001b[0;36mexecute_script\u001b[1;34m(self, script, *args)\u001b[0m\n\u001b[0;32m    403\u001b[0m         \u001b[0mcommand\u001b[0m \u001b[1;33m=\u001b[0m \u001b[0mCommand\u001b[0m\u001b[1;33m.\u001b[0m\u001b[0mW3C_EXECUTE_SCRIPT\u001b[0m\u001b[1;33m\u001b[0m\u001b[1;33m\u001b[0m\u001b[0m\n\u001b[0;32m    404\u001b[0m \u001b[1;33m\u001b[0m\u001b[0m\n\u001b[1;32m--> 405\u001b[1;33m         \u001b[1;32mreturn\u001b[0m \u001b[0mself\u001b[0m\u001b[1;33m.\u001b[0m\u001b[0mexecute\u001b[0m\u001b[1;33m(\u001b[0m\u001b[0mcommand\u001b[0m\u001b[1;33m,\u001b[0m \u001b[1;33m{\u001b[0m\u001b[1;34m\"script\"\u001b[0m\u001b[1;33m:\u001b[0m \u001b[0mscript\u001b[0m\u001b[1;33m,\u001b[0m \u001b[1;34m\"args\"\u001b[0m\u001b[1;33m:\u001b[0m \u001b[0mconverted_args\u001b[0m\u001b[1;33m}\u001b[0m\u001b[1;33m)\u001b[0m\u001b[1;33m[\u001b[0m\u001b[1;34m\"value\"\u001b[0m\u001b[1;33m]\u001b[0m\u001b[1;33m\u001b[0m\u001b[1;33m\u001b[0m\u001b[0m\n\u001b[0m\u001b[0;32m    406\u001b[0m \u001b[1;33m\u001b[0m\u001b[0m\n\u001b[0;32m    407\u001b[0m     \u001b[1;32mdef\u001b[0m \u001b[0mexecute_async_script\u001b[0m\u001b[1;33m(\u001b[0m\u001b[0mself\u001b[0m\u001b[1;33m,\u001b[0m \u001b[0mscript\u001b[0m\u001b[1;33m:\u001b[0m \u001b[0mstr\u001b[0m\u001b[1;33m,\u001b[0m \u001b[1;33m*\u001b[0m\u001b[0margs\u001b[0m\u001b[1;33m)\u001b[0m\u001b[1;33m:\u001b[0m\u001b[1;33m\u001b[0m\u001b[1;33m\u001b[0m\u001b[0m\n",
      "\u001b[1;32mc:\\Users\\MILU\\AppData\\Local\\Programs\\Python\\Python37\\lib\\site-packages\\selenium\\webdriver\\remote\\webdriver.py\u001b[0m in \u001b[0;36mexecute\u001b[1;34m(self, driver_command, params)\u001b[0m\n\u001b[0;32m    343\u001b[0m         \u001b[0mresponse\u001b[0m \u001b[1;33m=\u001b[0m \u001b[0mself\u001b[0m\u001b[1;33m.\u001b[0m\u001b[0mcommand_executor\u001b[0m\u001b[1;33m.\u001b[0m\u001b[0mexecute\u001b[0m\u001b[1;33m(\u001b[0m\u001b[0mdriver_command\u001b[0m\u001b[1;33m,\u001b[0m \u001b[0mparams\u001b[0m\u001b[1;33m)\u001b[0m\u001b[1;33m\u001b[0m\u001b[1;33m\u001b[0m\u001b[0m\n\u001b[0;32m    344\u001b[0m         \u001b[1;32mif\u001b[0m \u001b[0mresponse\u001b[0m\u001b[1;33m:\u001b[0m\u001b[1;33m\u001b[0m\u001b[1;33m\u001b[0m\u001b[0m\n\u001b[1;32m--> 345\u001b[1;33m             \u001b[0mself\u001b[0m\u001b[1;33m.\u001b[0m\u001b[0merror_handler\u001b[0m\u001b[1;33m.\u001b[0m\u001b[0mcheck_response\u001b[0m\u001b[1;33m(\u001b[0m\u001b[0mresponse\u001b[0m\u001b[1;33m)\u001b[0m\u001b[1;33m\u001b[0m\u001b[1;33m\u001b[0m\u001b[0m\n\u001b[0m\u001b[0;32m    346\u001b[0m             \u001b[0mresponse\u001b[0m\u001b[1;33m[\u001b[0m\u001b[1;34m\"value\"\u001b[0m\u001b[1;33m]\u001b[0m \u001b[1;33m=\u001b[0m \u001b[0mself\u001b[0m\u001b[1;33m.\u001b[0m\u001b[0m_unwrap_value\u001b[0m\u001b[1;33m(\u001b[0m\u001b[0mresponse\u001b[0m\u001b[1;33m.\u001b[0m\u001b[0mget\u001b[0m\u001b[1;33m(\u001b[0m\u001b[1;34m\"value\"\u001b[0m\u001b[1;33m,\u001b[0m \u001b[1;32mNone\u001b[0m\u001b[1;33m)\u001b[0m\u001b[1;33m)\u001b[0m\u001b[1;33m\u001b[0m\u001b[1;33m\u001b[0m\u001b[0m\n\u001b[0;32m    347\u001b[0m             \u001b[1;32mreturn\u001b[0m \u001b[0mresponse\u001b[0m\u001b[1;33m\u001b[0m\u001b[1;33m\u001b[0m\u001b[0m\n",
      "\u001b[1;32mc:\\Users\\MILU\\AppData\\Local\\Programs\\Python\\Python37\\lib\\site-packages\\selenium\\webdriver\\remote\\errorhandler.py\u001b[0m in \u001b[0;36mcheck_response\u001b[1;34m(self, response)\u001b[0m\n\u001b[0;32m    227\u001b[0m                 \u001b[0malert_text\u001b[0m \u001b[1;33m=\u001b[0m \u001b[0mvalue\u001b[0m\u001b[1;33m[\u001b[0m\u001b[1;34m\"alert\"\u001b[0m\u001b[1;33m]\u001b[0m\u001b[1;33m.\u001b[0m\u001b[0mget\u001b[0m\u001b[1;33m(\u001b[0m\u001b[1;34m\"text\"\u001b[0m\u001b[1;33m)\u001b[0m\u001b[1;33m\u001b[0m\u001b[1;33m\u001b[0m\u001b[0m\n\u001b[0;32m    228\u001b[0m             \u001b[1;32mraise\u001b[0m \u001b[0mexception_class\u001b[0m\u001b[1;33m(\u001b[0m\u001b[0mmessage\u001b[0m\u001b[1;33m,\u001b[0m \u001b[0mscreen\u001b[0m\u001b[1;33m,\u001b[0m \u001b[0mstacktrace\u001b[0m\u001b[1;33m,\u001b[0m \u001b[0malert_text\u001b[0m\u001b[1;33m)\u001b[0m  \u001b[1;31m# type: ignore[call-arg]  # mypy is not smart enough here\u001b[0m\u001b[1;33m\u001b[0m\u001b[1;33m\u001b[0m\u001b[0m\n\u001b[1;32m--> 229\u001b[1;33m         \u001b[1;32mraise\u001b[0m \u001b[0mexception_class\u001b[0m\u001b[1;33m(\u001b[0m\u001b[0mmessage\u001b[0m\u001b[1;33m,\u001b[0m \u001b[0mscreen\u001b[0m\u001b[1;33m,\u001b[0m \u001b[0mstacktrace\u001b[0m\u001b[1;33m)\u001b[0m\u001b[1;33m\u001b[0m\u001b[1;33m\u001b[0m\u001b[0m\n\u001b[0m",
      "\u001b[1;31mJavascriptException\u001b[0m: Message: javascript error: Cannot read properties of null (reading 'click')\n  (Session info: chrome=118.0.5993.118)\nStacktrace:\n\tGetHandleVerifier [0x01164DE3+43907]\n\t(No symbol) [0x010F0741]\n\t(No symbol) [0x00FE33ED]\n\t(No symbol) [0x00FE6F6D]\n\t(No symbol) [0x00FE89D9]\n\t(No symbol) [0x01045DEB]\n\t(No symbol) [0x01032B5C]\n\t(No symbol) [0x010455CA]\n\t(No symbol) [0x01032956]\n\t(No symbol) [0x0100E17E]\n\t(No symbol) [0x0100F32D]\n\tGetHandleVerifier [0x01415AF9+2865305]\n\tGetHandleVerifier [0x0145E78B+3163435]\n\tGetHandleVerifier [0x01458441+3138017]\n\tGetHandleVerifier [0x011EE0F0+605840]\n\t(No symbol) [0x010FA64C]\n\t(No symbol) [0x010F6638]\n\t(No symbol) [0x010F675F]\n\t(No symbol) [0x010E8DB7]\n\tBaseThreadInitThunk [0x7720FCC9+25]\n\tRtlGetAppContainerNamedObjectPath [0x77AA7C6E+286]\n\tRtlGetAppContainerNamedObjectPath [0x77AA7C3E+238]\n"
     ]
    }
   ],
   "source": [
    "driver.execute_script('document.querySelector(\\'[class=\"shopee-button-outline\"]\\').click();') "
   ]
  },
  {
   "cell_type": "code",
   "execution_count": 45,
   "metadata": {},
   "outputs": [],
   "source": [
    "driver.find_element(By.XPATH, '//input[@aria-controls=\"shopee-searchbar-listbox\"]').send_keys('gối ôm')"
   ]
  },
  {
   "cell_type": "code",
   "execution_count": 43,
   "metadata": {},
   "outputs": [],
   "source": [
    "driver.find_element(By.XPATH, '//*[@role=\"search\"]//button').click()"
   ]
  },
  {
   "cell_type": "code",
   "execution_count": 55,
   "metadata": {},
   "outputs": [],
   "source": [
    "username = \"sonn123456\"\n",
    "driver.execute_script('document.querySelector(\\'[name=\"loginKey\"]\\').focus();')\n",
    "driver.execute_script(f'document.execCommand(\\'insertText\\', false, \\'{username}\\');')\n",
    "password = \"Sonn1234@\"\n",
    "driver.execute_script('document.querySelector(\\'[name=\"password\"]\\').focus();')\n",
    "driver.execute_script(f'document.execCommand(\\'insertText\\', false, \\'{password}\\');')"
   ]
  },
  {
   "cell_type": "code",
   "execution_count": 56,
   "metadata": {},
   "outputs": [],
   "source": [
    "driver.execute_script('document.querySelector(\\'div > button:not(:has(*))\\').click()')"
   ]
  },
  {
   "cell_type": "code",
   "execution_count": null,
   "metadata": {},
   "outputs": [],
   "source": [
    "document.querySelector('footer').scrollIntoView({\n",
    "    behavior : 'smooth',\n",
    "})"
   ]
  },
  {
   "cell_type": "code",
   "execution_count": 57,
   "metadata": {},
   "outputs": [
    {
     "ename": "NoSuchWindowException",
     "evalue": "Message: no such window: target window already closed\nfrom unknown error: web view not found\n  (Session info: chrome=118.0.5993.118)\nStacktrace:\n\tGetHandleVerifier [0x01164DE3+43907]\n\t(No symbol) [0x010F0741]\n\t(No symbol) [0x00FE33ED]\n\t(No symbol) [0x00FCA9F2]\n\t(No symbol) [0x010368CB]\n\t(No symbol) [0x01045103]\n\t(No symbol) [0x01032956]\n\t(No symbol) [0x0100E17E]\n\t(No symbol) [0x0100F32D]\n\tGetHandleVerifier [0x01415AF9+2865305]\n\tGetHandleVerifier [0x0145E78B+3163435]\n\tGetHandleVerifier [0x01458441+3138017]\n\tGetHandleVerifier [0x011EE0F0+605840]\n\t(No symbol) [0x010FA64C]\n\t(No symbol) [0x010F6638]\n\t(No symbol) [0x010F675F]\n\t(No symbol) [0x010E8DB7]\n\tBaseThreadInitThunk [0x7720FCC9+25]\n\tRtlGetAppContainerNamedObjectPath [0x77AA7C6E+286]\n\tRtlGetAppContainerNamedObjectPath [0x77AA7C3E+238]\n",
     "output_type": "error",
     "traceback": [
      "\u001b[1;31m---------------------------------------------------------------------------\u001b[0m",
      "\u001b[1;31mNoSuchWindowException\u001b[0m                     Traceback (most recent call last)",
      "\u001b[1;32m~\\AppData\\Local\\Temp\\ipykernel_18160\\3240483957.py\u001b[0m in \u001b[0;36m<module>\u001b[1;34m\u001b[0m\n\u001b[1;32m----> 1\u001b[1;33m \u001b[0mdriver\u001b[0m\u001b[1;33m.\u001b[0m\u001b[0mexecute_script\u001b[0m\u001b[1;33m(\u001b[0m\u001b[1;34m'document.querySelector(\\'[role=\"search\"]\\').querySelector(\"button\").click()'\u001b[0m\u001b[1;33m)\u001b[0m\u001b[1;33m\u001b[0m\u001b[1;33m\u001b[0m\u001b[0m\n\u001b[0m\u001b[0;32m      2\u001b[0m \u001b[0mdocument\u001b[0m\u001b[1;33m.\u001b[0m\u001b[0mexecCommand\u001b[0m\u001b[1;33m(\u001b[0m\u001b[1;34m'insertText'\u001b[0m\u001b[1;33m,\u001b[0m \u001b[0mfalse\u001b[0m\u001b[1;33m,\u001b[0m \u001b[1;34m'sample@email.com'\u001b[0m\u001b[1;33m)\u001b[0m\u001b[1;33m;\u001b[0m\u001b[1;33m\u001b[0m\u001b[1;33m\u001b[0m\u001b[0m\n",
      "\u001b[1;32mc:\\Users\\MILU\\AppData\\Local\\Programs\\Python\\Python37\\lib\\site-packages\\selenium\\webdriver\\remote\\webdriver.py\u001b[0m in \u001b[0;36mexecute_script\u001b[1;34m(self, script, *args)\u001b[0m\n\u001b[0;32m    403\u001b[0m         \u001b[0mcommand\u001b[0m \u001b[1;33m=\u001b[0m \u001b[0mCommand\u001b[0m\u001b[1;33m.\u001b[0m\u001b[0mW3C_EXECUTE_SCRIPT\u001b[0m\u001b[1;33m\u001b[0m\u001b[1;33m\u001b[0m\u001b[0m\n\u001b[0;32m    404\u001b[0m \u001b[1;33m\u001b[0m\u001b[0m\n\u001b[1;32m--> 405\u001b[1;33m         \u001b[1;32mreturn\u001b[0m \u001b[0mself\u001b[0m\u001b[1;33m.\u001b[0m\u001b[0mexecute\u001b[0m\u001b[1;33m(\u001b[0m\u001b[0mcommand\u001b[0m\u001b[1;33m,\u001b[0m \u001b[1;33m{\u001b[0m\u001b[1;34m\"script\"\u001b[0m\u001b[1;33m:\u001b[0m \u001b[0mscript\u001b[0m\u001b[1;33m,\u001b[0m \u001b[1;34m\"args\"\u001b[0m\u001b[1;33m:\u001b[0m \u001b[0mconverted_args\u001b[0m\u001b[1;33m}\u001b[0m\u001b[1;33m)\u001b[0m\u001b[1;33m[\u001b[0m\u001b[1;34m\"value\"\u001b[0m\u001b[1;33m]\u001b[0m\u001b[1;33m\u001b[0m\u001b[1;33m\u001b[0m\u001b[0m\n\u001b[0m\u001b[0;32m    406\u001b[0m \u001b[1;33m\u001b[0m\u001b[0m\n\u001b[0;32m    407\u001b[0m     \u001b[1;32mdef\u001b[0m \u001b[0mexecute_async_script\u001b[0m\u001b[1;33m(\u001b[0m\u001b[0mself\u001b[0m\u001b[1;33m,\u001b[0m \u001b[0mscript\u001b[0m\u001b[1;33m:\u001b[0m \u001b[0mstr\u001b[0m\u001b[1;33m,\u001b[0m \u001b[1;33m*\u001b[0m\u001b[0margs\u001b[0m\u001b[1;33m)\u001b[0m\u001b[1;33m:\u001b[0m\u001b[1;33m\u001b[0m\u001b[1;33m\u001b[0m\u001b[0m\n",
      "\u001b[1;32mc:\\Users\\MILU\\AppData\\Local\\Programs\\Python\\Python37\\lib\\site-packages\\selenium\\webdriver\\remote\\webdriver.py\u001b[0m in \u001b[0;36mexecute\u001b[1;34m(self, driver_command, params)\u001b[0m\n\u001b[0;32m    343\u001b[0m         \u001b[0mresponse\u001b[0m \u001b[1;33m=\u001b[0m \u001b[0mself\u001b[0m\u001b[1;33m.\u001b[0m\u001b[0mcommand_executor\u001b[0m\u001b[1;33m.\u001b[0m\u001b[0mexecute\u001b[0m\u001b[1;33m(\u001b[0m\u001b[0mdriver_command\u001b[0m\u001b[1;33m,\u001b[0m \u001b[0mparams\u001b[0m\u001b[1;33m)\u001b[0m\u001b[1;33m\u001b[0m\u001b[1;33m\u001b[0m\u001b[0m\n\u001b[0;32m    344\u001b[0m         \u001b[1;32mif\u001b[0m \u001b[0mresponse\u001b[0m\u001b[1;33m:\u001b[0m\u001b[1;33m\u001b[0m\u001b[1;33m\u001b[0m\u001b[0m\n\u001b[1;32m--> 345\u001b[1;33m             \u001b[0mself\u001b[0m\u001b[1;33m.\u001b[0m\u001b[0merror_handler\u001b[0m\u001b[1;33m.\u001b[0m\u001b[0mcheck_response\u001b[0m\u001b[1;33m(\u001b[0m\u001b[0mresponse\u001b[0m\u001b[1;33m)\u001b[0m\u001b[1;33m\u001b[0m\u001b[1;33m\u001b[0m\u001b[0m\n\u001b[0m\u001b[0;32m    346\u001b[0m             \u001b[0mresponse\u001b[0m\u001b[1;33m[\u001b[0m\u001b[1;34m\"value\"\u001b[0m\u001b[1;33m]\u001b[0m \u001b[1;33m=\u001b[0m \u001b[0mself\u001b[0m\u001b[1;33m.\u001b[0m\u001b[0m_unwrap_value\u001b[0m\u001b[1;33m(\u001b[0m\u001b[0mresponse\u001b[0m\u001b[1;33m.\u001b[0m\u001b[0mget\u001b[0m\u001b[1;33m(\u001b[0m\u001b[1;34m\"value\"\u001b[0m\u001b[1;33m,\u001b[0m \u001b[1;32mNone\u001b[0m\u001b[1;33m)\u001b[0m\u001b[1;33m)\u001b[0m\u001b[1;33m\u001b[0m\u001b[1;33m\u001b[0m\u001b[0m\n\u001b[0;32m    347\u001b[0m             \u001b[1;32mreturn\u001b[0m \u001b[0mresponse\u001b[0m\u001b[1;33m\u001b[0m\u001b[1;33m\u001b[0m\u001b[0m\n",
      "\u001b[1;32mc:\\Users\\MILU\\AppData\\Local\\Programs\\Python\\Python37\\lib\\site-packages\\selenium\\webdriver\\remote\\errorhandler.py\u001b[0m in \u001b[0;36mcheck_response\u001b[1;34m(self, response)\u001b[0m\n\u001b[0;32m    227\u001b[0m                 \u001b[0malert_text\u001b[0m \u001b[1;33m=\u001b[0m \u001b[0mvalue\u001b[0m\u001b[1;33m[\u001b[0m\u001b[1;34m\"alert\"\u001b[0m\u001b[1;33m]\u001b[0m\u001b[1;33m.\u001b[0m\u001b[0mget\u001b[0m\u001b[1;33m(\u001b[0m\u001b[1;34m\"text\"\u001b[0m\u001b[1;33m)\u001b[0m\u001b[1;33m\u001b[0m\u001b[1;33m\u001b[0m\u001b[0m\n\u001b[0;32m    228\u001b[0m             \u001b[1;32mraise\u001b[0m \u001b[0mexception_class\u001b[0m\u001b[1;33m(\u001b[0m\u001b[0mmessage\u001b[0m\u001b[1;33m,\u001b[0m \u001b[0mscreen\u001b[0m\u001b[1;33m,\u001b[0m \u001b[0mstacktrace\u001b[0m\u001b[1;33m,\u001b[0m \u001b[0malert_text\u001b[0m\u001b[1;33m)\u001b[0m  \u001b[1;31m# type: ignore[call-arg]  # mypy is not smart enough here\u001b[0m\u001b[1;33m\u001b[0m\u001b[1;33m\u001b[0m\u001b[0m\n\u001b[1;32m--> 229\u001b[1;33m         \u001b[1;32mraise\u001b[0m \u001b[0mexception_class\u001b[0m\u001b[1;33m(\u001b[0m\u001b[0mmessage\u001b[0m\u001b[1;33m,\u001b[0m \u001b[0mscreen\u001b[0m\u001b[1;33m,\u001b[0m \u001b[0mstacktrace\u001b[0m\u001b[1;33m)\u001b[0m\u001b[1;33m\u001b[0m\u001b[1;33m\u001b[0m\u001b[0m\n\u001b[0m",
      "\u001b[1;31mNoSuchWindowException\u001b[0m: Message: no such window: target window already closed\nfrom unknown error: web view not found\n  (Session info: chrome=118.0.5993.118)\nStacktrace:\n\tGetHandleVerifier [0x01164DE3+43907]\n\t(No symbol) [0x010F0741]\n\t(No symbol) [0x00FE33ED]\n\t(No symbol) [0x00FCA9F2]\n\t(No symbol) [0x010368CB]\n\t(No symbol) [0x01045103]\n\t(No symbol) [0x01032956]\n\t(No symbol) [0x0100E17E]\n\t(No symbol) [0x0100F32D]\n\tGetHandleVerifier [0x01415AF9+2865305]\n\tGetHandleVerifier [0x0145E78B+3163435]\n\tGetHandleVerifier [0x01458441+3138017]\n\tGetHandleVerifier [0x011EE0F0+605840]\n\t(No symbol) [0x010FA64C]\n\t(No symbol) [0x010F6638]\n\t(No symbol) [0x010F675F]\n\t(No symbol) [0x010E8DB7]\n\tBaseThreadInitThunk [0x7720FCC9+25]\n\tRtlGetAppContainerNamedObjectPath [0x77AA7C6E+286]\n\tRtlGetAppContainerNamedObjectPath [0x77AA7C3E+238]\n"
     ]
    }
   ],
   "source": [
    "driver.execute_script('document.querySelector(\\'[role=\"search\"]\\').querySelector(\"button\").click()')\n",
    "document.execCommand('insertText', false, 'sample@email.com');"
   ]
  },
  {
   "cell_type": "code",
   "execution_count": 67,
   "metadata": {},
   "outputs": [],
   "source": [
    "!\"C:\\Program Files\\OpenVPN\\bin\\openvpn-gui.exe\" --auth-user-pass \"C:\\Program Files\\OpenVPN\\pass.txt\""
   ]
  },
  {
   "cell_type": "code",
   "execution_count": 65,
   "metadata": {},
   "outputs": [],
   "source": [
    "!\"C:\\Program Files\\OpenVPN\\bin\\openvpn-gui.exe\" --command connect ipvanish-US-Dallas-dal-b40.ovpn --auth-user-pass \"C:\\Program Files\\OpenVPN\\pass.txt\" "
   ]
  },
  {
   "cell_type": "code",
   "execution_count": 63,
   "metadata": {},
   "outputs": [
    {
     "name": "stdout",
     "output_type": "stream",
     "text": [
      "^C\n"
     ]
    }
   ],
   "source": [
    "!\"C:\\Program Files\\OpenVPN\\bin\\openvpn-gui.exe\" --help"
   ]
  },
  {
   "cell_type": "code",
   "execution_count": 101,
   "metadata": {},
   "outputs": [],
   "source": [
    "import subprocess\n",
    "import time \n",
    "result = subprocess.check_output([\"curl\", \"ifconfig.co\"])\n",
    "ip_address_current = result.decode('utf-8').strip()\n",
    "\n",
    "ip_changed = False\n",
    "!\"C:\\Program Files\\OpenVPN\\bin\\openvpn-gui.exe\" --command connect ipvanish-US-Dallas-dal-b40.ovpn\n",
    "\n",
    "while not ip_changed : \n",
    "    result = subprocess.check_output([\"curl\", \"ifconfig.co\"])\n",
    "    ip_address_after = result.decode('utf-8').strip()\n",
    "    if ip_address_after!= ip_address_current : \n",
    "        ip_changed = True\n",
    "    else : \n",
    "        time.sleep(2)"
   ]
  },
  {
   "cell_type": "code",
   "execution_count": 103,
   "metadata": {},
   "outputs": [],
   "source": [
    "result = subprocess.check_output([\"curl\", \"ifconfig.co\"])\n",
    "ip_address_current = result.decode('utf-8').strip()\n",
    "\n",
    "ip_changed = False\n",
    "!\"C:\\Program Files\\OpenVPN\\bin\\openvpn-gui.exe\" --command disconnect ipvanish-US-Dallas-dal-b40.ovpn\n",
    "\n",
    "while not ip_changed : \n",
    "    result = subprocess.check_output([\"curl\", \"ifconfig.co\"])\n",
    "    ip_address_after = result.decode('utf-8').strip()\n",
    "    if ip_address_after!= ip_address_current : \n",
    "        ip_changed = True\n",
    "    else : \n",
    "        time.sleep(2)"
   ]
  },
  {
   "cell_type": "code",
   "execution_count": 99,
   "metadata": {},
   "outputs": [
    {
     "ename": "KeyboardInterrupt",
     "evalue": "",
     "output_type": "error",
     "traceback": [
      "\u001b[1;31m---------------------------------------------------------------------------\u001b[0m",
      "\u001b[1;31mKeyboardInterrupt\u001b[0m                         Traceback (most recent call last)",
      "\u001b[1;32m~\\AppData\\Local\\Temp\\ipykernel_18160\\1921003596.py\u001b[0m in \u001b[0;36m<module>\u001b[1;34m\u001b[0m\n\u001b[0;32m      1\u001b[0m \u001b[1;32mimport\u001b[0m \u001b[0mos\u001b[0m\u001b[1;33m\u001b[0m\u001b[1;33m\u001b[0m\u001b[0m\n\u001b[1;32m----> 2\u001b[1;33m \u001b[0mos\u001b[0m\u001b[1;33m.\u001b[0m\u001b[0msystem\u001b[0m\u001b[1;33m(\u001b[0m\u001b[1;34m'curl -s http://checkip.dyndns.org/ '\u001b[0m\u001b[1;33m)\u001b[0m\u001b[1;33m\u001b[0m\u001b[1;33m\u001b[0m\u001b[0m\n\u001b[0m",
      "\u001b[1;31mKeyboardInterrupt\u001b[0m: "
     ]
    }
   ],
   "source": [
    "import os \n"
   ]
  },
  {
   "cell_type": "code",
   "execution_count": 97,
   "metadata": {},
   "outputs": [
    {
     "name": "stdout",
     "output_type": "stream",
     "text": [
      "2001:ee0:5003:d7e0:f17d:7020:1504:d042\n"
     ]
    },
    {
     "name": "stderr",
     "output_type": "stream",
     "text": [
      "  % Total    % Received % Xferd  Average Speed   Time    Time     Time  Current\n",
      "                                 Dload  Upload   Total   Spent    Left  Speed\n",
      "\n",
      "  0     0    0     0    0     0      0      0 --:--:-- --:--:-- --:--:--     0\n",
      "100    39  100    39    0     0    119      0 --:--:-- --:--:-- --:--:--   120\n"
     ]
    }
   ],
   "source": [
    "!curl ifconfig.co"
   ]
  },
  {
   "cell_type": "code",
   "execution_count": 102,
   "metadata": {},
   "outputs": [
    {
     "name": "stdout",
     "output_type": "stream",
     "text": [
      "2001:ee0:5003:d7e0:f17d:7020:1504:d042\n"
     ]
    }
   ],
   "source": [
    "import subprocess\n",
    "\n",
    "result = subprocess.check_output([\"curl\", \"ifconfig.co\"])\n",
    "ip_address = result.decode('utf-8').strip()\n",
    "\n",
    "print(ip_address)"
   ]
  }
 ],
 "metadata": {
  "kernelspec": {
   "display_name": "Python 3",
   "language": "python",
   "name": "python3"
  },
  "language_info": {
   "codemirror_mode": {
    "name": "ipython",
    "version": 3
   },
   "file_extension": ".py",
   "mimetype": "text/x-python",
   "name": "python",
   "nbconvert_exporter": "python",
   "pygments_lexer": "ipython3",
   "version": "3.7.8"
  }
 },
 "nbformat": 4,
 "nbformat_minor": 2
}
